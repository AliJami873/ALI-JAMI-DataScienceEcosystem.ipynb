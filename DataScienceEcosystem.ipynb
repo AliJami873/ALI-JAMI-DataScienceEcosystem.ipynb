{
 "cells": [
  {
   "cell_type": "markdown",
   "id": "97a47929",
   "metadata": {},
   "source": [
    "# Data Science Tools and Ecosystem"
   ]
  },
  {
   "cell_type": "markdown",
   "id": "7f4ee3e1",
   "metadata": {},
   "source": [
    "In this notebook, Data Science Tools and Ecosystem are summarized."
   ]
  },
  {
   "cell_type": "markdown",
   "id": "df9e6b7d",
   "metadata": {},
   "source": [
    " **Objectives**\n",
    "* list libraries for Data Science\n",
    "* Practice arithmetic expressions in Python\n",
    "* List popular languages for Data Science"
   ]
  },
  {
   "cell_type": "markdown",
   "id": "a71fc3ca",
   "metadata": {},
   "source": [
    "Some of the popular languages that Data Scientists use are:\n",
    "\n",
    "1. Python\n",
    "\n",
    "2. R\n",
    "\n",
    "3. SQL\n",
    "\n",
    "4. Julia\n",
    "\n",
    "5. MATLAB\n",
    "\n",
    "6. SAS\n",
    "\n",
    "7. Scala"
   ]
  },
  {
   "cell_type": "markdown",
   "id": "f8193334",
   "metadata": {},
   "source": [
    "some of the commonly used libraries used by Data Scientists include:\n",
    "\n",
    "1. Pandas\n",
    "\n",
    "2. NumPy\n",
    "\n",
    "3. SciPy\n",
    "\n",
    "4. Matplotlib\n",
    "\n",
    "5. Seaborn\n",
    "\n",
    "6. Plotly\n",
    "\n",
    "7. Scikit-learn"
   ]
  },
  {
   "cell_type": "markdown",
   "id": "7f6c1c0c",
   "metadata": {},
   "source": [
    "\n",
    "\n",
    "|Data Science Tools| \n",
    "|--------|\n",
    "|Jupyter|\n",
    "|Anaconda|\n",
    "|Tableau|\n",
    "|Apache Spark|\n",
    "|TensorFlow|\n",
    "|PyTorch|"
   ]
  },
  {
   "cell_type": "markdown",
   "id": "8aa02549",
   "metadata": {},
   "source": [
    "### Below are a few examples of evaluating arithmetic expressions in Python\n",
    "\n",
    "In Python, we can use these operations with the following symbols:\n",
    "\n",
    "Addition: +\n",
    "\n",
    "Subtraction: -\n",
    "\n",
    "Multiplication: *\n",
    "\n",
    "Division: /"
   ]
  },
  {
   "cell_type": "code",
   "execution_count": 9,
   "id": "451d8fcf",
   "metadata": {},
   "outputs": [
    {
     "data": {
      "text/plain": [
       "17"
      ]
     },
     "execution_count": 9,
     "metadata": {},
     "output_type": "execute_result"
    }
   ],
   "source": [
    "(3*4)+5             #This a simple arithmetic expression to mutiply then add integers\n"
   ]
  },
  {
   "cell_type": "code",
   "execution_count": 10,
   "id": "2ff4a2ef",
   "metadata": {},
   "outputs": [
    {
     "name": "stdout",
     "output_type": "stream",
     "text": [
      "3.3333333333333335\n"
     ]
    }
   ],
   "source": [
    "minutes = 200\n",
    "hours = minutes / 60\n",
    "print(hours)   #This will convert 200 minutes to hours by diving by 60"
   ]
  },
  {
   "cell_type": "markdown",
   "id": "efc942fb",
   "metadata": {},
   "source": [
    "## Author\n",
    "\n",
    "ALI JAMI"
   ]
  },
  {
   "cell_type": "markdown",
   "id": "b736d710",
   "metadata": {},
   "source": []
  }
 ],
 "metadata": {
  "kernelspec": {
   "display_name": "Python 3 (ipykernel)",
   "language": "python",
   "name": "python3"
  },
  "language_info": {
   "codemirror_mode": {
    "name": "ipython",
    "version": 3
   },
   "file_extension": ".py",
   "mimetype": "text/x-python",
   "name": "python",
   "nbconvert_exporter": "python",
   "pygments_lexer": "ipython3",
   "version": "3.11.2"
  }
 },
 "nbformat": 4,
 "nbformat_minor": 5
}
